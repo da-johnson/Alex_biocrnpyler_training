{
 "cells": [
  {
   "cell_type": "code",
   "execution_count": 3,
   "id": "ce17dd8f-57dd-4265-9e0f-e4cdf7180a59",
   "metadata": {},
   "outputs": [],
   "source": [
    "from biocrnpyler import *\n",
    "\n",
    "import bioscrape\n",
    "import numpy as np\n",
    "import pylab as plt\n",
    "import pandas as pd"
   ]
  },
  {
   "cell_type": "code",
   "execution_count": 4,
   "id": "4c21fab3-8aac-47e8-afc3-2f45cffea0aa",
   "metadata": {},
   "outputs": [
    {
     "name": "stdout",
     "output_type": "stream",
     "text": [
      "m1_A_attribute1_attribute2\n"
     ]
    }
   ],
   "source": [
    "A = Species(\"A\", material_type = \"m1\", attributes = [\"attribute1\", \"attribute2\"])\n",
    "print(A)"
   ]
  },
  {
   "cell_type": "code",
   "execution_count": 5,
   "id": "8df62b0e-56d0-416f-a34a-04a45348463e",
   "metadata": {},
   "outputs": [
    {
     "name": "stdout",
     "output_type": "stream",
     "text": [
      "A\n",
      "False\n"
     ]
    }
   ],
   "source": [
    "A2 = Species(\"A\")\n",
    "print(A2)\n",
    "print(A == A2)"
   ]
  },
  {
   "cell_type": "code",
   "execution_count": 6,
   "id": "ccd8bb65-4586-4887-a04d-ce709abba4fb",
   "metadata": {},
   "outputs": [
    {
     "name": "stdout",
     "output_type": "stream",
     "text": [
      "Complex([A, B]): complex_A_B_\n",
      "Complex([B, A]): complex_A_B_\n",
      "C1 == C2? True\n"
     ]
    }
   ],
   "source": [
    "A = Species(\"A\")\n",
    "B = Species(\"B\")\n",
    "\n",
    "C1 = Complex([A, B])\n",
    "print(\"Complex([A, B]):\", C1)\n",
    "\n",
    "C2 = Complex([B, A])\n",
    "print(\"Complex([B, A]):\", C2)\n",
    "\n",
    "print(\"C1 == C2?\", C1 == C2)"
   ]
  },
  {
   "cell_type": "code",
   "execution_count": 9,
   "id": "d9e9dc99-bffc-4afe-b288-22b470cac554",
   "metadata": {},
   "outputs": [
    {
     "name": "stdout",
     "output_type": "stream",
     "text": [
      "2A --> B\n",
      "2A --> B\n",
      " Kf=k_forward * A^2\n",
      "  k_forward=1.0\n",
      "\n"
     ]
    }
   ],
   "source": [
    "# Creating a reaction 2A --> B\n",
    "R1 = Reaction.from_massaction([A, A], [B], k_forward = 1.0)\n",
    "\n",
    "#You can print a reaction in two ways\n",
    "print(R1)\n",
    "print(R1.pretty_print())"
   ]
  },
  {
   "cell_type": "code",
   "execution_count": 11,
   "id": "1d0d8791-182b-43b4-86ea-0517ef31b992",
   "metadata": {},
   "outputs": [
    {
     "name": "stdout",
     "output_type": "stream",
     "text": [
      "A+B <--> complex[A:B]\n",
      "A+B <--> complex[A:B]\n",
      " Kf=k_forward * A * B\n",
      " Kr=k_reverse * complex_A_B_\n",
      "  k_forward=10.0\n",
      "  k_reverse=2.0\n",
      "\n"
     ]
    }
   ],
   "source": [
    "# Creating a reversible reaction 2A --> B\n",
    "R2 = Reaction.from_massaction([A, B], [C1], k_forward = 10.0, k_reverse = 2.0)\n",
    "\n",
    "#You can print a reaction in two ways\n",
    "print(R2)\n",
    "print(R2.pretty_print())"
   ]
  },
  {
   "cell_type": "code",
   "execution_count": 12,
   "id": "4b318217-1f34-4d58-a087-8add13741728",
   "metadata": {},
   "outputs": [
    {
     "name": "stdout",
     "output_type": "stream",
     "text": [
      "Species(N = 3) = {\n",
      "B (@ 0),  complex[A:B] (@ 0),  A (@ 0),  \n",
      "}\n",
      "\n",
      "Reactions (2) = [\n",
      "0. 2A --> B\n",
      " Kf=k_forward * A^2\n",
      "  k_forward=1.0\n",
      "\n",
      "1. A+B <--> complex[A:B]\n",
      " Kf=k_forward * A * B\n",
      " Kr=k_reverse * complex_A_B_\n",
      "  k_forward=10.0\n",
      "  k_reverse=2.0\n",
      "\n",
      "]\n"
     ]
    }
   ],
   "source": [
    "CRN = ChemicalReactionNetwork(species = [A, B, C1], reactions = [R1, R2])\n",
    "\n",
    "print(CRN.pretty_print(show_rates = True))"
   ]
  },
  {
   "cell_type": "code",
   "execution_count": 14,
   "id": "6735450e-6563-47db-b58f-f3ddabad2491",
   "metadata": {},
   "outputs": [
    {
     "name": "stdout",
     "output_type": "stream",
     "text": [
      "<?xml version=\"1.0\" encoding=\"UTF-8\"?>\n",
      "<sbml xmlns=\"http://www.sbml.org/sbml/level3/version2/core\" level=\"3\" version=\"2\">\n",
      "  <model id=\"biocrnpyler_679281\" name=\"biocrnpyler_679281\" substanceUnits=\"mole\" timeUnits=\"second\" volumeUnits=\"litre\" areaUnits=\"square_metre\" lengthUnits=\"metre\" extentUnits=\"mole\">\n",
      "    <listOfUnitDefinitions>\n",
      "      <unitDefinition id=\"square_metre\">\n",
      "        <listOfUnits>\n",
      "          <unit kind=\"metre\" exponent=\"2\" scale=\"0\" multiplier=\"1\"/>\n",
      "        </listOfUnits>\n",
      "      </unitDefinition>\n",
      "    </listOfUnitDefinitions>\n",
      "    <listOfCompartments>\n",
      "      <compartment id=\"default\" name=\"default\" spatialDimensions=\"3\" size=\"1e-06\" constant=\"true\"/>\n",
      "    </listOfCompartments>\n",
      "    <listOfSpecies>\n",
      "      <species id=\"A\" name=\"A\" compartment=\"default\" initialConcentration=\"0\" substanceUnits=\"mole\" hasOnlySubstanceUnits=\"false\" boundaryCondition=\"false\" constant=\"false\"/>\n",
      "      <species id=\"B\" name=\"B\" compartment=\"default\" initialConcentration=\"0\" substanceUnits=\"mole\" hasOnlySubstanceUnits=\"false\" boundaryCondition=\"false\" constant=\"false\"/>\n",
      "      <species id=\"complex_A_B_\" name=\"A_B\" compartment=\"default\" initialConcentration=\"0\" substanceUnits=\"mole\" hasOnlySubstanceUnits=\"false\" boundaryCondition=\"false\" constant=\"false\"/>\n",
      "    </listOfSpecies>\n",
      "    <listOfReactions>\n",
      "      <reaction id=\"r0\" name=\"r0\" reversible=\"false\">\n",
      "        <listOfReactants>\n",
      "          <speciesReference species=\"A\" stoichiometry=\"2\" constant=\"false\"/>\n",
      "        </listOfReactants>\n",
      "        <listOfProducts>\n",
      "          <speciesReference species=\"B\" stoichiometry=\"1\" constant=\"false\"/>\n",
      "        </listOfProducts>\n",
      "        <kineticLaw>\n",
      "          <math xmlns=\"http://www.w3.org/1998/Math/MathML\">\n",
      "            <apply>\n",
      "              <times/>\n",
      "              <ci> k_forward </ci>\n",
      "              <apply>\n",
      "                <power/>\n",
      "                <ci> A </ci>\n",
      "                <cn type=\"integer\"> 2 </cn>\n",
      "              </apply>\n",
      "            </apply>\n",
      "          </math>\n",
      "          <listOfLocalParameters>\n",
      "            <localParameter id=\"k_forward\" value=\"1\"/>\n",
      "          </listOfLocalParameters>\n",
      "        </kineticLaw>\n",
      "      </reaction>\n",
      "      <reaction id=\"r1\" name=\"r1\" reversible=\"false\">\n",
      "        <listOfReactants>\n",
      "          <speciesReference species=\"A\" stoichiometry=\"1\" constant=\"false\"/>\n",
      "          <speciesReference species=\"B\" stoichiometry=\"1\" constant=\"false\"/>\n",
      "        </listOfReactants>\n",
      "        <listOfProducts>\n",
      "          <speciesReference species=\"complex_A_B_\" stoichiometry=\"1\" constant=\"false\"/>\n",
      "        </listOfProducts>\n",
      "        <kineticLaw>\n",
      "          <math xmlns=\"http://www.w3.org/1998/Math/MathML\">\n",
      "            <apply>\n",
      "              <times/>\n",
      "              <ci> k_forward </ci>\n",
      "              <ci> A </ci>\n",
      "              <ci> B </ci>\n",
      "            </apply>\n",
      "          </math>\n",
      "          <listOfLocalParameters>\n",
      "            <localParameter id=\"k_forward\" value=\"10\"/>\n",
      "          </listOfLocalParameters>\n",
      "        </kineticLaw>\n",
      "      </reaction>\n",
      "      <reaction id=\"r1rev\" name=\"r1rev\" reversible=\"false\">\n",
      "        <listOfReactants>\n",
      "          <speciesReference species=\"complex_A_B_\" stoichiometry=\"1\" constant=\"false\"/>\n",
      "        </listOfReactants>\n",
      "        <listOfProducts>\n",
      "          <speciesReference species=\"A\" stoichiometry=\"1\" constant=\"false\"/>\n",
      "          <speciesReference species=\"B\" stoichiometry=\"1\" constant=\"false\"/>\n",
      "        </listOfProducts>\n",
      "        <kineticLaw>\n",
      "          <math xmlns=\"http://www.w3.org/1998/Math/MathML\">\n",
      "            <apply>\n",
      "              <times/>\n",
      "              <ci> k_reverse </ci>\n",
      "              <ci> complex_A_B_ </ci>\n",
      "            </apply>\n",
      "          </math>\n",
      "          <listOfLocalParameters>\n",
      "            <localParameter id=\"k_reverse\" value=\"2\"/>\n",
      "          </listOfLocalParameters>\n",
      "        </kineticLaw>\n",
      "      </reaction>\n",
      "    </listOfReactions>\n",
      "  </model>\n",
      "</sbml>\n",
      "\n"
     ]
    }
   ],
   "source": [
    "CRN.write_sbml_file(\"crnl.xml\")\n",
    "\n",
    "print(open(\"crnl.xml\").read())"
   ]
  },
  {
   "cell_type": "code",
   "execution_count": 15,
   "id": "6dce980a-7b16-4193-b8b7-69c4a4a52517",
   "metadata": {},
   "outputs": [
    {
     "data": {
      "text/plain": [
       "Text(0, 0.5, 'concentration')"
      ]
     },
     "execution_count": 15,
     "metadata": {},
     "output_type": "execute_result"
    },
    {
     "data": {
      "image/png": "[encoded data removed]",
      "text/plain": [
       "<Figure size 432x288 with 1 Axes>"
      ]
     },
     "metadata": {
      "needs_background": "light"
     },
     "output_type": "display_data"
    }
   ],
   "source": [
    "%matplotlib inline\n",
    "\n",
    "x0 = {str(A):10}\n",
    "time = np.linspace(0, 5, 100)\n",
    "\n",
    "R = CRN.simulate_with_bioscrape_via_sbml(timepoints = time, initial_condition_dict = x0)\n",
    "\n",
    "plt.plot(R['time'], R[str(A)], label = str(A))\n",
    "plt.plot(R['time'], R[str(B)], label = str(B))\n",
    "plt.plot(R['time'], R[str(C1)], label = str(C1))\n",
    "plt.legend()\n",
    "plt.xlabel(\"time\"); plt.ylabel(\"concentration\")"
   ]
  },
  {
   "cell_type": "code",
   "execution_count": 16,
   "id": "73466a4a-e943-4825-ab6d-b29290ce2ca1",
   "metadata": {},
   "outputs": [
    {
     "name": "stdout",
     "output_type": "stream",
     "text": [
      "A --> B\n",
      " Kf = k Regulator^n / ( K^n + Regulator^n )\n",
      "  k=1\n",
      "  K=5\n",
      "  n=2\n",
      "\n"
     ]
    }
   ],
   "source": [
    "R = Species(\"Regulator\")\n",
    "hill_pos = HillPositive(k=1, s1=R, K=5, n=2)\n",
    "\n",
    "r_hill_pos = Reaction([A], [B], propensity_type = hill_pos)\n",
    "\n",
    "print(r_hill_pos.pretty_print())"
   ]
  },
  {
   "cell_type": "code",
   "execution_count": 17,
   "id": "81ff750a-4139-4f13-bfb0-ed3328ad8381",
   "metadata": {},
   "outputs": [
    {
     "name": "stdout",
     "output_type": "stream",
     "text": [
      "A+B --> complex[A:B]\n",
      "k1*2 - k2/complex_A_B_^2\n",
      "  k1=1.11\n",
      "  k2=2.22\n",
      "\n"
     ]
    }
   ],
   "source": [
    "#For general propensities use this format\n",
    "\n",
    "# Create some parameters\n",
    "k1 = ParameterEntry(\"k1\", 1.11)\n",
    "k2 = ParameterEntry(\"k2\", 2.22)\n",
    "\n",
    "#type the string as a rate then decalre the species and parameters\n",
    "general = GeneralPropensity(f'k1*2 - k2/{str(C1)}^2', propensity_species=[C1], propensity_parameters=[k1, k2])\n",
    "\n",
    "r_general = Reaction([A, B], [C1], propensity_type = general)\n",
    "\n",
    "print(r_general.pretty_print())"
   ]
  },
  {
   "cell_type": "markdown",
   "id": "7d45588e-bbb7-4d9d-9e76-eff7d53f00d3",
   "metadata": {},
   "source": [
    "# Do the homework"
   ]
  },
  {
   "cell_type": "code",
   "execution_count": null,
   "id": "72dbb39d-8aa7-4d6c-9ee3-cf7dddf03fa8",
   "metadata": {},
   "outputs": [],
   "source": []
  }
 ],
 "metadata": {
  "kernelspec": {
   "display_name": "Python 3 (ipykernel)",
   "language": "python",
   "name": "python3"
  },
  "language_info": {
   "codemirror_mode": {
    "name": "ipython",
    "version": 3
   },
   "file_extension": ".py",
   "mimetype": "text/x-python",
   "name": "python",
   "nbconvert_exporter": "python",
   "pygments_lexer": "ipython3",
   "version": "3.8.12"
  }
 },
 "nbformat": 4,
 "nbformat_minor": 5
}
