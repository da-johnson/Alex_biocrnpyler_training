{
 "cells": [
  {
   "cell_type": "code",
   "execution_count": 1,
   "id": "e9423167-83d7-4274-bfb1-c97de4bf85d9",
   "metadata": {},
   "outputs": [],
   "source": [
    "#Imports\n",
    "from biocrnpyler import *\n",
    "import numpy as np #for arrays\n",
    "import pylab as plt #for plotting\n",
    "import bioscrape as bs #for simulation\n",
    "import pandas #stores simulation results"
   ]
  },
  {
   "cell_type": "code",
   "execution_count": 2,
   "id": "aa927e92-9d03-4f87-adda-ef58dd1af330",
   "metadata": {},
   "outputs": [],
   "source": [
    "default_parameters = {\"kb\":100, \"ku\":10, \"kcat\":1.}"
   ]
  },
  {
   "cell_type": "code",
   "execution_count": 3,
   "id": "843fc8e4-9ba7-4091-9054-d443f6c1c9e7",
   "metadata": {},
   "outputs": [],
   "source": [
    "#Create underlying species:\n",
    "E = Species(\"E\")\n",
    "S = Species(\"S\")\n",
    "P = Species(\"P\")\n",
    "\n",
    "#Create an Enzyme Component names E which converts S to P\n",
    "enzyme = Enzyme(E, substrates = S, products = P)"
   ]
  },
  {
   "cell_type": "code",
   "execution_count": 4,
   "id": "c40cc0c4-aedf-425d-a05a-20364d6cd538",
   "metadata": {},
   "outputs": [],
   "source": [
    "#Create Mechanisms\n",
    "mech_cat = BasicCatalysis() #E + S -> E + P\n",
    "\n",
    "#make a list of mechanisms\n",
    "mechanisms = [mech_cat]"
   ]
  },
  {
   "cell_type": "code",
   "execution_count": 5,
   "id": "af9e39c0-8d5c-453a-b3fb-355a1e106f8d",
   "metadata": {},
   "outputs": [
    {
     "name": "stdout",
     "output_type": "stream",
     "text": [
      "Mixture: Catalysis Mixture\n",
      "Components = [\n",
      "\tEnzyme: E ]\n",
      "Mechanisms = {\n",
      "\tcatalysis:basic_catalysis }\n"
     ]
    }
   ],
   "source": [
    "#Create a Mixture Named \"Catalysis Mixture\"\n",
    "#E is passed into compenents keyword\n",
    "#the paraeter dictionary goes to parameters keyword\n",
    "M = Mixture(\"Catalysis Mixture\",\n",
    "           components = [enzyme],\n",
    "           parameters = default_parameters,\n",
    "           mechanisms = mechanisms\n",
    "           )\n",
    "#Mixtures can be viewed as strings by using repr\n",
    "print(repr(M))"
   ]
  },
  {
   "cell_type": "code",
   "execution_count": 6,
   "id": "1ee94355-1037-43a5-b71e-d748040d7827",
   "metadata": {},
   "outputs": [
    {
     "name": "stdout",
     "output_type": "stream",
     "text": [
      "Species(N = 3) = {\n",
      "S (@ 0),  P (@ 0),  E (@ 0),  \n",
      "}\n",
      "\n",
      "Reactions (1) = [\n",
      "0. E+S --> E+P\n",
      " Kf=k_forward * E * S\n",
      "  k_forward=1.0\n",
      "  found_key=(mech=None, partid=None, name=kcat).\n",
      "  search_key=(mech=basic_catalysis, partid=E, name=kcat).\n",
      "\n",
      "]\n"
     ]
    }
   ],
   "source": [
    "#Compile the Mixture into a CRN with Mixture.compile_crn\n",
    "CRN = M.compile_crn()\n",
    "\n",
    "#print the CRN\n",
    "print(CRN.pretty_print(show_rates = True, show_True = False, show_materials = True, show_attributes = True))"
   ]
  },
  {
   "cell_type": "code",
   "execution_count": 7,
   "id": "936195ce-27f3-4ffb-802f-733bfff91ad7",
   "metadata": {},
   "outputs": [
    {
     "data": {
      "image/png": "[encoded data removed]",
      "text/plain": [
       "<Figure size 432x288 with 1 Axes>"
      ]
     },
     "metadata": {
      "needs_background": "light"
     },
     "output_type": "display_data"
    }
   ],
   "source": [
    "%matplotlib inline\n",
    "#Create initial conditions\n",
    "x0 = {str(E):1, str(S):20, str(P):0}\n",
    "\n",
    "timepoints = np.linspace(0, 20, 100)\n",
    "R = CRN.simulate_with_bioscrape_via_sbml(timepoints, initial_condition_dict = x0)\n",
    "\n",
    "plt.plot(timepoints, R[str(E)], label = str(E))\n",
    "plt.plot(timepoints, R[str(P)], label = str(P))\n",
    "plt.plot(timepoints, R[str(S)], label = str(S))\n",
    "plt.legend()\n",
    "plt.show()"
   ]
  },
  {
   "cell_type": "markdown",
   "id": "dcb7c9e9-3362-4e32-ba65-ebb5dfbd00c2",
   "metadata": {},
   "source": [
    "# MichaelisMenten Catalysis"
   ]
  },
  {
   "cell_type": "code",
   "execution_count": 8,
   "id": "58279f14-37d0-4e72-a5d5-36efc14fc0cc",
   "metadata": {},
   "outputs": [
    {
     "name": "stdout",
     "output_type": "stream",
     "text": [
      "Mixture: MM Catalysis Mixture\n",
      "Components = [\n",
      "\tEnzyme: E ]\n",
      "Mechanisms = {\n",
      "\tcatalysis:michalis_menten }\n"
     ]
    }
   ],
   "source": [
    "#This is the only part that changed!\n",
    "mech_cat = MichaelisMenten()\n",
    "\n",
    "#This time, I am adding mechanism via a list in the constructor\n",
    "mechanisms = [mech_cat]\n",
    "M = Mixture(\"MM Catalysis Mixture\",\n",
    "           components = [enzyme],\n",
    "           parameters = default_parameters,\n",
    "           mechanisms = mechanisms)\n",
    "print(repr(M))"
   ]
  },
  {
   "cell_type": "code",
   "execution_count": 9,
   "id": "65217692-64f6-453b-beb6-3f97ef3e17ca",
   "metadata": {},
   "outputs": [
    {
     "name": "stdout",
     "output_type": "stream",
     "text": [
      "Species(N = 4) = {\n",
      "S (@ 0),  P (@ 0),  complex[E:S] (@ 0),  E (@ 0),  \n",
      "}\n",
      "\n",
      "Reactions (2) = [\n",
      "0. S+E <--> complex[E:S]\n",
      " Kf=k_forward * S * E\n",
      " Kr=k_reverse * complex_E_S_\n",
      "  k_forward=100\n",
      "  found_key=(mech=None, partid=None, name=kb).\n",
      "  search_key=(mech=michalis_menten, partid=E, name=kb).\n",
      "  k_reverse=10\n",
      "  found_key=(mech=None, partid=None, name=ku).\n",
      "  search_key=(mech=michalis_menten, partid=E, name=ku).\n",
      "\n",
      "1. complex[E:S] --> P+E\n",
      " Kf=k_forward * complex_E_S_\n",
      "  k_forward=1.0\n",
      "  found_key=(mech=None, partid=None, name=kcat).\n",
      "  search_key=(mech=michalis_menten, partid=E, name=kcat).\n",
      "\n",
      "]\n"
     ]
    }
   ],
   "source": [
    "#Compile the CRN\n",
    "CRN = M.compile_crn()\n",
    "print(CRN.pretty_print(show_rates = True, show_True = False, show_materials = True, show_attributes = True))"
   ]
  },
  {
   "cell_type": "code",
   "execution_count": 10,
   "id": "3a8ee8cf-f04c-4b63-9847-4375aa29d70d",
   "metadata": {},
   "outputs": [
    {
     "data": {
      "image/png": "[encoded data removed]",
      "text/plain": [
       "<Figure size 432x288 with 1 Axes>"
      ]
     },
     "metadata": {
      "needs_background": "light"
     },
     "output_type": "display_data"
    }
   ],
   "source": [
    "%matplotlib inline\n",
    "#Create initial conditions\n",
    "x0 = {str(E):1, str(S):100, str(P):0}\n",
    "\n",
    "timepoints = np.linspace(0, 20, 100)\n",
    "R = CRN.simulate_with_bioscrape_via_sbml(timepoints, initial_condition_dict = x0)\n",
    "\n",
    "plt.plot(timepoints, R[str(E)], label = str(E))\n",
    "plt.plot(timepoints, R[str(P)], label = str(P))\n",
    "plt.plot(timepoints, R[str(S)], label = str(S))\n",
    "plt.legend()\n",
    "plt.show()"
   ]
  },
  {
   "cell_type": "code",
   "execution_count": 11,
   "id": "3fbb44ef-cddd-4c63-904c-1429efc554a1",
   "metadata": {},
   "outputs": [],
   "source": [
    "#Create an Enzyme Component named E which converts S to P\n",
    "enzyme = Enzyme(E, substrates = S, products = P)\n",
    "\n",
    "#Create a DNA assembly which will take care of the transcription and translaton\n",
    "assembly = DNAassembly(\"Gene_E\",\n",
    "                      promoter = \"strong\",\n",
    "                      rbs = \"medium\",\n",
    "                      protein = E,\n",
    "                      initial_conc = 1.)"
   ]
  },
  {
   "cell_type": "code",
   "execution_count": 16,
   "id": "002fa406-0e10-499b-9adc-4593366fe94d",
   "metadata": {},
   "outputs": [
    {
     "name": "stdout",
     "output_type": "stream",
     "text": [
      "SimpleTxTlExtract: e coli extract\n",
      "Components = [\n",
      "\tEnzyme: E\n",
      "\tDNAassembly: Gene_E ]\n",
      "Mechanisms = {\n",
      "\ttranscription:simple_transcription\n",
      "\ttranslation:simple_translation\n",
      "\tcatalysis:basic_catalysis\n",
      "\tbinding:one_step_binding }\n",
      "Global Mechanisms = {\n",
      "\trna_degredation:rna_degredation }\n"
     ]
    }
   ],
   "source": [
    "M_simple = SimpleTxTlExtract(\"e coli extract\",\n",
    "                            components = [enzyme, assembly],\n",
    "                            parameter_file = \"default_parameters.txt\")\n",
    "print(repr(M_simple))"
   ]
  },
  {
   "cell_type": "code",
   "execution_count": 17,
   "id": "dc300681-5334-4cd6-9d6b-5245eca3d0df",
   "metadata": {},
   "outputs": [
    {
     "ename": "ValueError",
     "evalue": "No parameters can be found that match the (mechanism, part_id, param_name)=(basic_catalysis, E, kcat)",
     "output_type": "error",
     "traceback": [
      "\u001b[0;31m---------------------------------------------------------------------------\u001b[0m",
      "\u001b[0;31mValueError\u001b[0m                                Traceback (most recent call last)",
      "\u001b[0;32m/var/folders/yk/12xt1n0s2l7dwp55v66mdnm00000gn/T/ipykernel_84031/1007870640.py\u001b[0m in \u001b[0;36m<module>\u001b[0;34m\u001b[0m\n\u001b[0;32m----> 1\u001b[0;31m \u001b[0mCRN_simple\u001b[0m \u001b[0;34m=\u001b[0m \u001b[0mM_simple\u001b[0m\u001b[0;34m.\u001b[0m\u001b[0mcompile_crn\u001b[0m\u001b[0;34m(\u001b[0m\u001b[0;34m)\u001b[0m\u001b[0;34m\u001b[0m\u001b[0;34m\u001b[0m\u001b[0m\n\u001b[0m\u001b[1;32m      2\u001b[0m \u001b[0mprint\u001b[0m\u001b[0;34m(\u001b[0m\u001b[0mCRN_simple\u001b[0m\u001b[0;34m.\u001b[0m\u001b[0mpretty_print\u001b[0m\u001b[0;34m(\u001b[0m\u001b[0mshow_rates\u001b[0m \u001b[0;34m=\u001b[0m \u001b[0;32mFalse\u001b[0m\u001b[0;34m)\u001b[0m\u001b[0;34m)\u001b[0m\u001b[0;34m\u001b[0m\u001b[0;34m\u001b[0m\u001b[0m\n",
      "\u001b[0;32m~/opt/anaconda3/lib/python3.8/site-packages/biocrnpyler/mixture.py\u001b[0m in \u001b[0;36mcompile_crn\u001b[0;34m(self, recursion_depth, initial_concentration_dict, return_enumerated_components, initial_concentrations_at_end, copy_objects, add_reaction_species)\u001b[0m\n\u001b[1;32m    486\u001b[0m         \u001b[0;31m#Append Reactions from each Component\u001b[0m\u001b[0;34m\u001b[0m\u001b[0;34m\u001b[0m\u001b[0;34m\u001b[0m\u001b[0m\n\u001b[1;32m    487\u001b[0m         \u001b[0;32mfor\u001b[0m \u001b[0mcomponent\u001b[0m \u001b[0;32min\u001b[0m \u001b[0menumerated_components\u001b[0m\u001b[0;34m:\u001b[0m\u001b[0;34m\u001b[0m\u001b[0;34m\u001b[0m\u001b[0m\n\u001b[0;32m--> 488\u001b[0;31m             \u001b[0mself\u001b[0m\u001b[0;34m.\u001b[0m\u001b[0mcrn\u001b[0m\u001b[0;34m.\u001b[0m\u001b[0madd_reactions\u001b[0m\u001b[0;34m(\u001b[0m\u001b[0mcomponent\u001b[0m\u001b[0;34m.\u001b[0m\u001b[0mupdate_reactions\u001b[0m\u001b[0;34m(\u001b[0m\u001b[0;34m)\u001b[0m\u001b[0;34m,\u001b[0m \u001b[0mcopy_reactions\u001b[0m \u001b[0;34m=\u001b[0m \u001b[0mcopy_objects\u001b[0m\u001b[0;34m,\u001b[0m \u001b[0madd_species\u001b[0m \u001b[0;34m=\u001b[0m  \u001b[0madd_reaction_species\u001b[0m\u001b[0;34m)\u001b[0m\u001b[0;34m\u001b[0m\u001b[0;34m\u001b[0m\u001b[0m\n\u001b[0m\u001b[1;32m    489\u001b[0m \u001b[0;34m\u001b[0m\u001b[0m\n\u001b[1;32m    490\u001b[0m \u001b[0;34m\u001b[0m\u001b[0m\n",
      "\u001b[0;32m~/opt/anaconda3/lib/python3.8/site-packages/biocrnpyler/components_basic.py\u001b[0m in \u001b[0;36mupdate_reactions\u001b[0;34m(self)\u001b[0m\n\u001b[1;32m    265\u001b[0m     \u001b[0;32mdef\u001b[0m \u001b[0mupdate_reactions\u001b[0m\u001b[0;34m(\u001b[0m\u001b[0mself\u001b[0m\u001b[0;34m)\u001b[0m \u001b[0;34m->\u001b[0m \u001b[0mList\u001b[0m\u001b[0;34m[\u001b[0m\u001b[0mReaction\u001b[0m\u001b[0;34m]\u001b[0m\u001b[0;34m:\u001b[0m\u001b[0;34m\u001b[0m\u001b[0;34m\u001b[0m\u001b[0m\n\u001b[1;32m    266\u001b[0m         \u001b[0mmech_cat\u001b[0m \u001b[0;34m=\u001b[0m \u001b[0mself\u001b[0m\u001b[0;34m.\u001b[0m\u001b[0mget_mechanism\u001b[0m\u001b[0;34m(\u001b[0m\u001b[0;34m'catalysis'\u001b[0m\u001b[0;34m)\u001b[0m\u001b[0;34m\u001b[0m\u001b[0;34m\u001b[0m\u001b[0m\n\u001b[0;32m--> 267\u001b[0;31m         return mech_cat.update_reactions(Enzyme=self.enzyme, Sub=self.substrates, Prod=self.products,\n\u001b[0m\u001b[1;32m    268\u001b[0m                                          component=self,  part_id=self.name)\n",
      "\u001b[0;32m~/opt/anaconda3/lib/python3.8/site-packages/biocrnpyler/mechanisms_enzyme.py\u001b[0m in \u001b[0;36mupdate_reactions\u001b[0;34m(self, Enzyme, Sub, Prod, component, part_id, kcat, **keywords)\u001b[0m\n\u001b[1;32m     33\u001b[0m             \u001b[0;32mraise\u001b[0m \u001b[0mValueError\u001b[0m\u001b[0;34m(\u001b[0m\u001b[0;34m\"Must pass in either a component or kcat.\"\u001b[0m\u001b[0;34m)\u001b[0m\u001b[0;34m\u001b[0m\u001b[0;34m\u001b[0m\u001b[0m\n\u001b[1;32m     34\u001b[0m         \u001b[0;32melif\u001b[0m \u001b[0mkcat\u001b[0m \u001b[0;32mis\u001b[0m \u001b[0;32mNone\u001b[0m\u001b[0;34m:\u001b[0m\u001b[0;34m\u001b[0m\u001b[0;34m\u001b[0m\u001b[0m\n\u001b[0;32m---> 35\u001b[0;31m             \u001b[0mkcat\u001b[0m \u001b[0;34m=\u001b[0m \u001b[0mcomponent\u001b[0m\u001b[0;34m.\u001b[0m\u001b[0mget_parameter\u001b[0m\u001b[0;34m(\u001b[0m\u001b[0;34m\"kcat\"\u001b[0m\u001b[0;34m,\u001b[0m \u001b[0mpart_id\u001b[0m \u001b[0;34m=\u001b[0m \u001b[0mpart_id\u001b[0m\u001b[0;34m,\u001b[0m \u001b[0mmechanism\u001b[0m \u001b[0;34m=\u001b[0m \u001b[0mself\u001b[0m\u001b[0;34m)\u001b[0m\u001b[0;34m\u001b[0m\u001b[0;34m\u001b[0m\u001b[0m\n\u001b[0m\u001b[1;32m     36\u001b[0m \u001b[0;34m\u001b[0m\u001b[0m\n\u001b[1;32m     37\u001b[0m         \u001b[0;32mreturn\u001b[0m \u001b[0;34m[\u001b[0m\u001b[0mReaction\u001b[0m\u001b[0;34m.\u001b[0m\u001b[0mfrom_massaction\u001b[0m\u001b[0;34m(\u001b[0m\u001b[0minputs\u001b[0m\u001b[0;34m=\u001b[0m\u001b[0;34m[\u001b[0m\u001b[0mEnzyme\u001b[0m\u001b[0;34m,\u001b[0m \u001b[0mSub\u001b[0m\u001b[0;34m]\u001b[0m\u001b[0;34m,\u001b[0m \u001b[0moutputs\u001b[0m\u001b[0;34m=\u001b[0m\u001b[0;34m[\u001b[0m\u001b[0mEnzyme\u001b[0m\u001b[0;34m,\u001b[0m \u001b[0mProd\u001b[0m\u001b[0;34m]\u001b[0m\u001b[0;34m,\u001b[0m \u001b[0mk_forward\u001b[0m\u001b[0;34m=\u001b[0m\u001b[0mkcat\u001b[0m\u001b[0;34m)\u001b[0m\u001b[0;34m]\u001b[0m\u001b[0;34m\u001b[0m\u001b[0;34m\u001b[0m\u001b[0m\n",
      "\u001b[0;32m~/opt/anaconda3/lib/python3.8/site-packages/biocrnpyler/component.py\u001b[0m in \u001b[0;36mget_parameter\u001b[0;34m(self, param_name, part_id, mechanism, return_numerical, return_none, check_mixture)\u001b[0m\n\u001b[1;32m    260\u001b[0m \u001b[0;34m\u001b[0m\u001b[0m\n\u001b[1;32m    261\u001b[0m         \u001b[0;32mif\u001b[0m \u001b[0mparam\u001b[0m \u001b[0;32mis\u001b[0m \u001b[0;32mNone\u001b[0m \u001b[0;32mand\u001b[0m \u001b[0;32mnot\u001b[0m \u001b[0mreturn_none\u001b[0m\u001b[0;34m:\u001b[0m\u001b[0;34m\u001b[0m\u001b[0;34m\u001b[0m\u001b[0m\n\u001b[0;32m--> 262\u001b[0;31m             raise ValueError(\"No parameters can be found that match the \"\n\u001b[0m\u001b[1;32m    263\u001b[0m                              \u001b[0;34m\"(mechanism, part_id, \"\u001b[0m\u001b[0;34m\u001b[0m\u001b[0;34m\u001b[0m\u001b[0m\n\u001b[1;32m    264\u001b[0m                              \u001b[0;34mf\"param_name)=({repr(mechanism)}, {part_id}, \"\u001b[0m\u001b[0;34m\u001b[0m\u001b[0;34m\u001b[0m\u001b[0m\n",
      "\u001b[0;31mValueError\u001b[0m: No parameters can be found that match the (mechanism, part_id, param_name)=(basic_catalysis, E, kcat)"
     ]
    }
   ],
   "source": [
    "CRN_simple = M_simple.compile_crn()\n",
    "print(CRN_simple.pretty_print(show_rates = False))"
   ]
  },
  {
   "cell_type": "code",
   "execution_count": null,
   "id": "8fe589af-20e7-40bc-9d77-5ba0f001a926",
   "metadata": {},
   "outputs": [],
   "source": []
  }
 ],
 "metadata": {
  "kernelspec": {
   "display_name": "Python 3 (ipykernel)",
   "language": "python",
   "name": "python3"
  },
  "language_info": {
   "codemirror_mode": {
    "name": "ipython",
    "version": 3
   },
   "file_extension": ".py",
   "mimetype": "text/x-python",
   "name": "python",
   "nbconvert_exporter": "python",
   "pygments_lexer": "ipython3",
   "version": "3.8.12"
  }
 },
 "nbformat": 4,
 "nbformat_minor": 5
}
